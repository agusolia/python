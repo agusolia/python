{
 "cells": [
  {
   "cell_type": "markdown",
   "metadata": {},
   "source": [
    "# _Importo los datos de los jugadores_"
   ]
  },
  {
   "cell_type": "code",
   "execution_count": 1,
   "metadata": {},
   "outputs": [],
   "source": [
    "names = \"\"\" Agustin, Yanina, Andrés, Ariadna, Bautista, CAROLINA, CESAR, David, Diego, Dolores, DYLAN, ELIANA, Emanuel, Fabián, Noelia, Francsica, FEDERICO, Fernanda, GONZALO, Nancy \"\"\"\n",
    "goals = [0, 10, 4, 0, 5, 14, 0, 0, 7, 2, 1, 1, 1, 5, 6, 1, 1, 2, 0, 11]\n",
    "goals_avoided = [0, 2, 0, 0, 5, 2, 0, 0, 1, 2, 0, 5, 5, 0, 1, 0, 2, 3, 0, 0]\n",
    "assists = [0, 5, 1, 0, 5, 2, 0, 0, 1, 2, 1, 5, 5, 0, 1, 0, 2, 3, 1, 0]"
   ]
  },
  {
   "cell_type": "markdown",
   "metadata": {},
   "source": [
    "# _Importo el modulo \"statistics\"_"
   ]
  },
  {
   "cell_type": "code",
   "execution_count": 2,
   "metadata": {},
   "outputs": [],
   "source": [
    "import statistics"
   ]
  },
  {
   "cell_type": "markdown",
   "metadata": {},
   "source": [
    "# _Llamo a la funcion \"constructor\" la cual va a crear un diccionario de tuplas con los datos de todos los jugadores_"
   ]
  },
  {
   "cell_type": "code",
   "execution_count": 3,
   "metadata": {},
   "outputs": [
    {
     "name": "stdout",
     "output_type": "stream",
     "text": [
      "{'AGUSTIN': (0, 0, 0), 'YANINA': (10, 2, 5), 'ANDRÉS': (4, 0, 1), 'ARIADNA': (0, 0, 0), 'BAUTISTA': (5, 5, 5), 'CAROLINA': (14, 2, 2), 'CESAR': (0, 0, 0), 'DAVID': (0, 0, 0), 'DIEGO': (7, 1, 1), 'DOLORES': (2, 2, 2), 'DYLAN': (1, 0, 1), 'ELIANA': (1, 5, 5), 'EMANUEL': (1, 5, 5), 'FABIÁN': (5, 0, 0), 'NOELIA': (6, 1, 1), 'FRANCSICA': (1, 0, 0), 'FEDERICO': (1, 2, 2), 'FERNANDA': (2, 3, 3), 'GONZALO': (0, 0, 1), 'NANCY': (11, 0, 0)}\n"
     ]
    }
   ],
   "source": [
    "players = statistics.constructor (names, goals, goals_avoided, assists)\n",
    "print (players)"
   ]
  },
  {
   "cell_type": "markdown",
   "metadata": {},
   "source": [
    "# _LLamo a la función que devuelve el nombre del maximo goleador/a y su cantidad de goles_"
   ]
  },
  {
   "cell_type": "code",
   "execution_count": 4,
   "metadata": {},
   "outputs": [
    {
     "name": "stdout",
     "output_type": "stream",
     "text": [
      "El maximo goleador es CAROLINA con 14 goles\n"
     ]
    }
   ],
   "source": [
    "scorer_name, scorer_goals = statistics.scorer (players)\n",
    "print (\"El maximo goleador es {} con {} goles\".format(scorer_name, scorer_goals))"
   ]
  },
  {
   "cell_type": "markdown",
   "metadata": {},
   "source": [
    "# _Llamo a la funcion que devuelve el nombre del jugador mas influyente_"
   ]
  },
  {
   "cell_type": "code",
   "execution_count": 5,
   "metadata": {},
   "outputs": [
    {
     "name": "stdout",
     "output_type": "stream",
     "text": [
      "El jugador más influyente es CAROLINA\n"
     ]
    }
   ],
   "source": [
    "most_influential = statistics.mIP (players)\n",
    "print (\"El jugador más influyente es {}\".format(most_influential))"
   ]
  },
  {
   "cell_type": "markdown",
   "metadata": {},
   "source": [
    "# _Llamo a una función que me devuelve la cantidad de goles por partido en promedio_"
   ]
  },
  {
   "cell_type": "code",
   "execution_count": 6,
   "metadata": {},
   "outputs": [
    {
     "name": "stdout",
     "output_type": "stream",
     "text": [
      "La cantidad de goles promedio por partido es de 2.84\n"
     ]
    }
   ],
   "source": [
    "goals_average = statistics.average (goals)\n",
    "print (\"La cantidad de goles promedio por partido es de {}\".format(goals_average))"
   ]
  },
  {
   "cell_type": "markdown",
   "metadata": {},
   "source": [
    "# _Llamo a una función que me devuelve el promedio de goles por partido del maximo/a goleador/a_"
   ]
  },
  {
   "cell_type": "code",
   "execution_count": 7,
   "metadata": {},
   "outputs": [
    {
     "name": "stdout",
     "output_type": "stream",
     "text": [
      "El maximo goleador hizo un premedio de 0.56 goles\n"
     ]
    }
   ],
   "source": [
    "goal_scorer_average = statistics.scorerAverage (players)\n",
    "print (\"El máximo goleador hizo un premedio de {} goles\".format(goal_scorer_average))"
   ]
  }
 ],
 "metadata": {
  "kernelspec": {
   "display_name": "Python 3",
   "language": "python",
   "name": "python3"
  },
  "language_info": {
   "codemirror_mode": {
    "name": "ipython",
    "version": 3
   },
   "file_extension": ".py",
   "mimetype": "text/x-python",
   "name": "python",
   "nbconvert_exporter": "python",
   "pygments_lexer": "ipython3",
   "version": "3.11.7"
  }
 },
 "nbformat": 4,
 "nbformat_minor": 2
}
